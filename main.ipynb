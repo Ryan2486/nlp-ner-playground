{
 "cells": [
  {
   "metadata": {},
   "cell_type": "markdown",
   "source": [
    "# Let's get it started with the XTREME benchmark from Hugging Face datasets.\n",
    "To import the dataset, we can use the `load_dataset` function from the `datasets` library.\n",
    "This benchmark includes a variety of tasks across multiple languages, making it a great choice for evaluating multilingual models.\n",
    "It use IOB format for sequence labeling tasks, which is a common format for named entity recognition (NER) and other similar tasks."
   ],
   "id": "8a77807f92f26ee"
  },
  {
   "metadata": {
    "ExecuteTime": {
     "end_time": "2025-10-08T13:17:44.347149Z",
     "start_time": "2025-10-08T13:17:02.645455Z"
    }
   },
   "cell_type": "code",
   "source": [
    "from datasets import get_dataset_config_names\n",
    "xtreme_subsets = get_dataset_config_names(\"xtreme\")\n",
    "print(f\"XTREME has {len(xtreme_subsets)} configurations\")\n"
   ],
   "id": "fbc121e30a2defb3",
   "outputs": [
    {
     "name": "stderr",
     "output_type": "stream",
     "text": [
      "D:\\Travail\\Python\\nlp-ner\\.venv\\Lib\\site-packages\\tqdm\\auto.py:21: TqdmWarning: IProgress not found. Please update jupyter and ipywidgets. See https://ipywidgets.readthedocs.io/en/stable/user_install.html\n",
      "  from .autonotebook import tqdm as notebook_tqdm\n"
     ]
    },
    {
     "name": "stdout",
     "output_type": "stream",
     "text": [
      "XTREME has 183 configurations\n"
     ]
    }
   ],
   "execution_count": 1
  },
  {
   "metadata": {},
   "cell_type": "markdown",
   "source": [
    "Whoa, that’s a lot of configurations! `XTREME` includes a variety of tasks such as:\n",
    "- Named Entity Recognition (NER)\n",
    "- Part-of-Speech Tagging (POS)\n",
    "- Question Answering (QA)\n",
    "- Sentence Retrieval (SR)\n",
    "\n",
    "But we'll focus on the `NER` task for this example.\n",
    "Let’s narrow the search by just looking for the configurations that start with “`PAN`”\n",
    "\n",
    "**Why?**\n",
    "\n",
    "Because `PAN-X` is the subset of `XTREME` that focuses on `NER` across multiple languages."
   ],
   "id": "d2d4a4d648efcc6a"
  },
  {
   "metadata": {
    "ExecuteTime": {
     "end_time": "2025-10-08T13:17:44.439930Z",
     "start_time": "2025-10-08T13:17:44.423191Z"
    }
   },
   "cell_type": "code",
   "source": [
    "panx_subsets = [s for s in xtreme_subsets if s.startswith(\"PAN\")]\n",
    "panx_subsets[:3]"
   ],
   "id": "1610d10d121abf3a",
   "outputs": [
    {
     "data": {
      "text/plain": [
       "['PAN-X.af', 'PAN-X.ar', 'PAN-X.bg']"
      ]
     },
     "execution_count": 2,
     "metadata": {},
     "output_type": "execute_result"
    }
   ],
   "execution_count": 2
  },
  {
   "metadata": {},
   "cell_type": "markdown",
   "source": [
    "So, we have several configurations for `PAN-X`, each corresponding to a different language.\n",
    "Like you can see, each one has a two-letter language code at the end, such as `en` for English, `de` for German, and `fr` for French. it follows the **ISO 639-1** standard for language codes.\n",
    "\n",
    "Alright, if we want to use the German corpus, we can load it like this:"
   ],
   "id": "7cc81769d30198a9"
  },
  {
   "metadata": {
    "ExecuteTime": {
     "end_time": "2025-10-08T13:18:03.344218Z",
     "start_time": "2025-10-08T13:17:44.498453Z"
    }
   },
   "cell_type": "code",
   "source": [
    "from datasets import load_dataset\n",
    "load_dataset(\"xtreme\", name=\"PAN-X.de\")"
   ],
   "id": "3afa6ce53ac69549",
   "outputs": [
    {
     "data": {
      "text/plain": [
       "DatasetDict({\n",
       "    train: Dataset({\n",
       "        features: ['tokens', 'ner_tags', 'langs'],\n",
       "        num_rows: 20000\n",
       "    })\n",
       "    validation: Dataset({\n",
       "        features: ['tokens', 'ner_tags', 'langs'],\n",
       "        num_rows: 10000\n",
       "    })\n",
       "    test: Dataset({\n",
       "        features: ['tokens', 'ner_tags', 'langs'],\n",
       "        num_rows: 10000\n",
       "    })\n",
       "})"
      ]
     },
     "execution_count": 3,
     "metadata": {},
     "output_type": "execute_result"
    }
   ],
   "execution_count": 3
  },
  {
   "metadata": {},
   "cell_type": "markdown",
   "source": [
    "But what if we want to load multiple languages at once? for exemple, Swiss corpus which includes German, French, English and Italian.\n",
    "\n",
    "This corpus is particularly interesting because it reflects the multilingual nature of Switzerland, where multiple languages are spoken and imbalanced.\n",
    "\n",
    "We have like:\n",
    "- 62% of German (de)\n",
    "- 22% of French (fr)\n",
    "- 8% of Italian (it)\n",
    "- 5% of English (en)\n",
    "\n",
    "So, To keep track of each language, let’s create a Python `defaultdict` that stores the language code as the `key` and a `PAN-X` corpus of type DatasetDict as the value:"
   ],
   "id": "5b25a44620f6583"
  },
  {
   "metadata": {
    "ExecuteTime": {
     "end_time": "2025-10-08T13:19:58.019169Z",
     "start_time": "2025-10-08T13:18:04.638171Z"
    }
   },
   "cell_type": "code",
   "source": [
    "from collections import defaultdict\n",
    "from datasets import DatasetDict\n",
    "\n",
    "langs = [\"de\", \"fr\", \"it\", \"en\"]\n",
    "fracs = [0.629, 0.229, 0.084, 0.059]\n",
    "# Return a DatasetDict if a key doesn't exist\n",
    "panx_ch = defaultdict(DatasetDict)\n",
    "for lang, frac in zip(langs, fracs):\n",
    "    # Load monolingual corpus\n",
    "    ds = load_dataset(\"xtreme\", name=f\"PAN-X.{lang}\")\n",
    "    # Shuffle and downsample each split according to spoken proportion\n",
    "    for split in ds:\n",
    "        panx_ch[lang][split] = (\n",
    "        ds[split]\n",
    "        .shuffle(seed=0)\n",
    "        .select(range(int(frac * ds[split].num_rows))))\n"
   ],
   "id": "5fb2ff9bd964e1d6",
   "outputs": [
    {
     "name": "stderr",
     "output_type": "stream",
     "text": [
      "Using the latest cached version of the dataset since xtreme couldn't be found on the Hugging Face Hub\n",
      "Found the latest cached dataset configuration 'PAN-X.fr' at C:\\Users\\ryanr\\.cache\\huggingface\\datasets\\xtreme\\PAN-X.fr\\0.0.0\\ec5f1f46e9af79639a90684a7a70a956c4998f04 (last modified on Thu Sep 25 16:51:23 2025).\n"
     ]
    }
   ],
   "execution_count": 4
  },
  {
   "metadata": {},
   "cell_type": "markdown",
   "source": [
    "To ensure that our dataset don't accidentally bias our dataset splits, we `shuffle` each split with a fixed seed before downsampling it according to the spoken proportion.\n",
    "\n",
    "Let's take a look at the number of training examples in each language:"
   ],
   "id": "12e17b36ea46396"
  },
  {
   "metadata": {
    "ExecuteTime": {
     "end_time": "2025-10-08T13:19:59.309499Z",
     "start_time": "2025-10-08T13:19:58.495249Z"
    }
   },
   "cell_type": "code",
   "source": [
    "import pandas as pd\n",
    "pd.DataFrame({lang: [panx_ch[lang][\"train\"].num_rows] for lang in langs},\n",
    " index=[\"Number of training examples\"])"
   ],
   "id": "a5b4d5be9416d47e",
   "outputs": [
    {
     "data": {
      "text/plain": [
       "                                de    fr    it    en\n",
       "Number of training examples  12580  4580  1680  1180"
      ],
      "text/html": [
       "<div>\n",
       "<style scoped>\n",
       "    .dataframe tbody tr th:only-of-type {\n",
       "        vertical-align: middle;\n",
       "    }\n",
       "\n",
       "    .dataframe tbody tr th {\n",
       "        vertical-align: top;\n",
       "    }\n",
       "\n",
       "    .dataframe thead th {\n",
       "        text-align: right;\n",
       "    }\n",
       "</style>\n",
       "<table border=\"1\" class=\"dataframe\">\n",
       "  <thead>\n",
       "    <tr style=\"text-align: right;\">\n",
       "      <th></th>\n",
       "      <th>de</th>\n",
       "      <th>fr</th>\n",
       "      <th>it</th>\n",
       "      <th>en</th>\n",
       "    </tr>\n",
       "  </thead>\n",
       "  <tbody>\n",
       "    <tr>\n",
       "      <th>Number of training examples</th>\n",
       "      <td>12580</td>\n",
       "      <td>4580</td>\n",
       "      <td>1680</td>\n",
       "      <td>1180</td>\n",
       "    </tr>\n",
       "  </tbody>\n",
       "</table>\n",
       "</div>"
      ]
     },
     "execution_count": 5,
     "metadata": {},
     "output_type": "execute_result"
    }
   ],
   "execution_count": 5
  },
  {
   "metadata": {},
   "cell_type": "markdown",
   "source": [
    "Like you can see, we have more training examples for Geman than for the other languages, which reflects the linguistic landscape of Switzerland.\n",
    "\n",
    "So, we can use it as a starting point from which zero-shot cross-lingual transfer\n",
    "to French, Italian, and English.\n",
    "\n",
    "Let's take a look at a few examples from the German training set:"
   ],
   "id": "bcd9dd6929c9cadf"
  },
  {
   "metadata": {
    "ExecuteTime": {
     "end_time": "2025-10-08T13:19:59.686490Z",
     "start_time": "2025-10-08T13:19:59.374042Z"
    }
   },
   "cell_type": "code",
   "source": [
    "element = panx_ch[\"de\"][\"train\"][0]\n",
    "for key, value in element.items():\n",
    " print(f\"{key}: {value}\")\n"
   ],
   "id": "eb135a434e2358df",
   "outputs": [
    {
     "name": "stdout",
     "output_type": "stream",
     "text": [
      "tokens: ['2.000', 'Einwohnern', 'an', 'der', 'Danziger', 'Bucht', 'in', 'der', 'polnischen', 'Woiwodschaft', 'Pommern', '.']\n",
      "ner_tags: [0, 0, 0, 0, 5, 6, 0, 0, 5, 5, 6, 0]\n",
      "langs: ['de', 'de', 'de', 'de', 'de', 'de', 'de', 'de', 'de', 'de', 'de', 'de']\n"
     ]
    }
   ],
   "execution_count": 6
  },
  {
   "metadata": {},
   "cell_type": "markdown",
   "source": [
    "As you can see, each example consists of a sentence and its corresponding named entity tags in IOB format.\n",
    "\n",
    "ner_tags column corresponds to the mapping of each entity to a class ID. This is a bit cryptic, so let's add a column that maps each class ID to its corresponding entity label\n",
    "\n",
    "First, let's take a look at the features of the dataset to find the mapping:"
   ],
   "id": "698adffd1c19bbc8"
  },
  {
   "metadata": {
    "ExecuteTime": {
     "end_time": "2025-10-08T13:19:59.760946Z",
     "start_time": "2025-10-08T13:19:59.750450Z"
    }
   },
   "cell_type": "code",
   "source": [
    "for key, value in panx_ch[\"de\"][\"train\"].features.items():\n",
    " print(f\"{key}: {value}\")"
   ],
   "id": "94287dd7473e05d1",
   "outputs": [
    {
     "name": "stdout",
     "output_type": "stream",
     "text": [
      "tokens: List(Value('string'))\n",
      "ner_tags: List(ClassLabel(names=['O', 'B-PER', 'I-PER', 'B-ORG', 'I-ORG', 'B-LOC', 'I-LOC']))\n",
      "langs: List(Value('string'))\n"
     ]
    }
   ],
   "execution_count": 7
  },
  {
   "metadata": {},
   "cell_type": "markdown",
   "source": [
    "The `ner_tags` feature is of type `ClassLabel`, which means it has a predefined set of labels.\n",
    "\n",
    "Let's pick up the mapping from class IDs to entity labels:"
   ],
   "id": "95bdf306242efec0"
  },
  {
   "metadata": {
    "ExecuteTime": {
     "end_time": "2025-10-08T13:19:59.863281Z",
     "start_time": "2025-10-08T13:19:59.858495Z"
    }
   },
   "cell_type": "code",
   "source": [
    "tags = panx_ch[\"de\"][\"train\"].features[\"ner_tags\"].feature\n",
    "print(tags)"
   ],
   "id": "8222e2b1bc80c940",
   "outputs": [
    {
     "name": "stdout",
     "output_type": "stream",
     "text": [
      "ClassLabel(names=['O', 'B-PER', 'I-PER', 'B-ORG', 'I-ORG', 'B-LOC', 'I-LOC'])\n"
     ]
    }
   ],
   "execution_count": 8
  },
  {
   "metadata": {},
   "cell_type": "markdown",
   "source": [
    "The `ClassLabel` object provides a method called `int2str` that allows us to convert class IDs to their corresponding string labels.\n",
    "With `map` method, we can easily create a new column in the dataset that contains the string labels for each entity tag."
   ],
   "id": "ef8171ffde6599da"
  },
  {
   "metadata": {
    "ExecuteTime": {
     "end_time": "2025-10-08T13:20:00.135642Z",
     "start_time": "2025-10-08T13:20:00.027172Z"
    }
   },
   "cell_type": "code",
   "source": [
    "def create_tag_names(batch):\n",
    " return {\"ner_tags_str\": [tags.int2str(idx) for idx in batch[\"ner_tags\"]]}\n",
    "panx_de = panx_ch[\"de\"].map(create_tag_names)"
   ],
   "id": "8e9d82e6e8ed84b6",
   "outputs": [],
   "execution_count": 9
  },
  {
   "metadata": {},
   "cell_type": "markdown",
   "source": [
    "And now, let's take a look at the first example in the German training set with the new `ner_tags_str` column\n",
    "> Yeah, this is a data Analyst Habits! 😅"
   ],
   "id": "c65becd064913364"
  },
  {
   "metadata": {
    "ExecuteTime": {
     "end_time": "2025-10-08T13:20:00.283496Z",
     "start_time": "2025-10-08T13:20:00.251429Z"
    }
   },
   "cell_type": "code",
   "source": [
    "de_example = panx_de[\"train\"][0]\n",
    "pd.DataFrame([de_example[\"tokens\"], de_example[\"ner_tags_str\"]],\n",
    "['Tokens', 'Tags'])\n"
   ],
   "id": "95cfcdc3c7f1df5d",
   "outputs": [
    {
     "data": {
      "text/plain": [
       "           0           1   2    3         4      5   6    7           8   \\\n",
       "Tokens  2.000  Einwohnern  an  der  Danziger  Bucht  in  der  polnischen   \n",
       "Tags        O           O   O    O     B-LOC  I-LOC   O    O       B-LOC   \n",
       "\n",
       "                  9        10 11  \n",
       "Tokens  Woiwodschaft  Pommern  .  \n",
       "Tags           B-LOC    I-LOC  O  "
      ],
      "text/html": [
       "<div>\n",
       "<style scoped>\n",
       "    .dataframe tbody tr th:only-of-type {\n",
       "        vertical-align: middle;\n",
       "    }\n",
       "\n",
       "    .dataframe tbody tr th {\n",
       "        vertical-align: top;\n",
       "    }\n",
       "\n",
       "    .dataframe thead th {\n",
       "        text-align: right;\n",
       "    }\n",
       "</style>\n",
       "<table border=\"1\" class=\"dataframe\">\n",
       "  <thead>\n",
       "    <tr style=\"text-align: right;\">\n",
       "      <th></th>\n",
       "      <th>0</th>\n",
       "      <th>1</th>\n",
       "      <th>2</th>\n",
       "      <th>3</th>\n",
       "      <th>4</th>\n",
       "      <th>5</th>\n",
       "      <th>6</th>\n",
       "      <th>7</th>\n",
       "      <th>8</th>\n",
       "      <th>9</th>\n",
       "      <th>10</th>\n",
       "      <th>11</th>\n",
       "    </tr>\n",
       "  </thead>\n",
       "  <tbody>\n",
       "    <tr>\n",
       "      <th>Tokens</th>\n",
       "      <td>2.000</td>\n",
       "      <td>Einwohnern</td>\n",
       "      <td>an</td>\n",
       "      <td>der</td>\n",
       "      <td>Danziger</td>\n",
       "      <td>Bucht</td>\n",
       "      <td>in</td>\n",
       "      <td>der</td>\n",
       "      <td>polnischen</td>\n",
       "      <td>Woiwodschaft</td>\n",
       "      <td>Pommern</td>\n",
       "      <td>.</td>\n",
       "    </tr>\n",
       "    <tr>\n",
       "      <th>Tags</th>\n",
       "      <td>O</td>\n",
       "      <td>O</td>\n",
       "      <td>O</td>\n",
       "      <td>O</td>\n",
       "      <td>B-LOC</td>\n",
       "      <td>I-LOC</td>\n",
       "      <td>O</td>\n",
       "      <td>O</td>\n",
       "      <td>B-LOC</td>\n",
       "      <td>B-LOC</td>\n",
       "      <td>I-LOC</td>\n",
       "      <td>O</td>\n",
       "    </tr>\n",
       "  </tbody>\n",
       "</table>\n",
       "</div>"
      ]
     },
     "execution_count": 10,
     "metadata": {},
     "output_type": "execute_result"
    }
   ],
   "execution_count": 10
  },
  {
   "metadata": {},
   "cell_type": "markdown",
   "source": "The presence of the `LOC` tags make sense since the sentence “2,000 Einwohnern an der Danziger Bucht in der polnischen Woiwodschaft Pommern” means “2,000 inhabitants at the Gdansk Bay in the Polish voivodeship of Pomerania” in English. And “**Danziger Bucht**” is indeed a location, a bay in the Baltic sea.\n",
   "id": "190867885417e486"
  },
  {
   "metadata": {},
   "cell_type": "markdown",
   "source": "Now, let's make a quick check to see if we don't have any unusual imbalance in the tags, let's look at the distribution of each entity across each split.",
   "id": "4f0d19dfec45f92d"
  },
  {
   "metadata": {
    "ExecuteTime": {
     "end_time": "2025-10-08T13:20:01.997573Z",
     "start_time": "2025-10-08T13:20:00.366319Z"
    }
   },
   "cell_type": "code",
   "source": [
    "from collections import Counter\n",
    "split2freqs = defaultdict(Counter)\n",
    "for split, dataset in panx_de.items():\n",
    "    for row in dataset[\"ner_tags_str\"]:\n",
    "        for tag in row:\n",
    "            if tag.startswith(\"B\"):\n",
    "                tag_type = tag.split(\"-\")[1]\n",
    "                split2freqs[split][tag_type] += 1\n",
    "pd.DataFrame.from_dict(split2freqs, orient=\"index\")"
   ],
   "id": "ed884103a4002a8b",
   "outputs": [
    {
     "data": {
      "text/plain": [
       "             LOC   ORG   PER\n",
       "train       6186  5366  5810\n",
       "validation  3172  2683  2893\n",
       "test        3180  2573  3071"
      ],
      "text/html": [
       "<div>\n",
       "<style scoped>\n",
       "    .dataframe tbody tr th:only-of-type {\n",
       "        vertical-align: middle;\n",
       "    }\n",
       "\n",
       "    .dataframe tbody tr th {\n",
       "        vertical-align: top;\n",
       "    }\n",
       "\n",
       "    .dataframe thead th {\n",
       "        text-align: right;\n",
       "    }\n",
       "</style>\n",
       "<table border=\"1\" class=\"dataframe\">\n",
       "  <thead>\n",
       "    <tr style=\"text-align: right;\">\n",
       "      <th></th>\n",
       "      <th>LOC</th>\n",
       "      <th>ORG</th>\n",
       "      <th>PER</th>\n",
       "    </tr>\n",
       "  </thead>\n",
       "  <tbody>\n",
       "    <tr>\n",
       "      <th>train</th>\n",
       "      <td>6186</td>\n",
       "      <td>5366</td>\n",
       "      <td>5810</td>\n",
       "    </tr>\n",
       "    <tr>\n",
       "      <th>validation</th>\n",
       "      <td>3172</td>\n",
       "      <td>2683</td>\n",
       "      <td>2893</td>\n",
       "    </tr>\n",
       "    <tr>\n",
       "      <th>test</th>\n",
       "      <td>3180</td>\n",
       "      <td>2573</td>\n",
       "      <td>3071</td>\n",
       "    </tr>\n",
       "  </tbody>\n",
       "</table>\n",
       "</div>"
      ]
     },
     "execution_count": 11,
     "metadata": {},
     "output_type": "execute_result"
    }
   ],
   "execution_count": 11
  },
  {
   "metadata": {},
   "cell_type": "markdown",
   "source": [
    "This is a pretty good distribution of entity tags across the `training`, `validation`, and `test` sets.\n",
    "\n",
    "`LOC`, `PER`, and `ORG` are roughly the same for each split, which is what we want to see.\n"
   ],
   "id": "53dbf440fdafb6c"
  },
  {
   "metadata": {},
   "cell_type": "markdown",
   "source": [
    "# What are we going to do next?\n",
    "\n",
    "Like i mentioned earlier, we are going to make a zero-shot cross-lingual transfer from German to French, Italian, and English.\n",
    "\n",
    "What is Zero-shot cross-lingual transfer?\n",
    "\n",
    ">In short, it means training a model on one language (German in this case) and then evaluating its performance on other languages (French, Italian, and English) without any additional training on those languages."
   ],
   "id": "d4960d895eed2258"
  },
  {
   "metadata": {},
   "cell_type": "markdown",
   "source": [
    "So, now, we need a model to evaluate.\n",
    "\n",
    "One of the first multilingual transformers was `mBERT`, which uses the same architecture and pretraining objective as `BERT` but is trained on additional data from wikipedia articles in many languages. After that, there are many other models like `XLM-R`, `mT5`, and `mDeBERTaV3` that have shown even better performance on various multilingual benchmarks.\n",
    "\n",
    "So we will focus on `XLM-R`, which is a robustly optimized version of `mBERT` and has shown strong performance on various multilingual benchmarks, including `XTREME`."
   ],
   "id": "3e0ed00c1e6685e1"
  },
  {
   "metadata": {},
   "cell_type": "markdown",
   "source": [
    "`XLM-R` is a transformer-based model like `BERT`, but use a `SentencePiece` tokenizer instead of `WordPiece` tokenizer used in `BERT`.\n",
    "\n",
    "To get a feel for how SentencePiece compares to WordPiece, let's load the BERT tokenizer and the XLM-R tokenizer in 🤗(Hugging Face) Transformers."
   ],
   "id": "8a243c140dd01f19"
  },
  {
   "metadata": {
    "ExecuteTime": {
     "end_time": "2025-10-08T13:20:54.784536Z",
     "start_time": "2025-10-08T13:20:02.103718Z"
    }
   },
   "cell_type": "code",
   "source": [
    "from transformers import AutoTokenizer\n",
    "\n",
    "bert_model_name = \"bert-base-cased\"\n",
    "xlmr_model_name = \"xlm-roberta-base\"\n",
    "bert_tokenizer = AutoTokenizer.from_pretrained(bert_model_name)\n",
    "xlmr_tokenizer = AutoTokenizer.from_pretrained(xlmr_model_name)"
   ],
   "id": "56855a88b019c457",
   "outputs": [],
   "execution_count": 12
  },
  {
   "metadata": {},
   "cell_type": "markdown",
   "source": "And now, let's take a example sentence",
   "id": "738d9ebfce23507b"
  },
  {
   "metadata": {
    "ExecuteTime": {
     "end_time": "2025-10-08T13:20:56.735615Z",
     "start_time": "2025-10-08T13:20:55.274897Z"
    }
   },
   "cell_type": "code",
   "source": [
    "text = \"Jack Sparrow loves New York!\"\n",
    "bert_tokens = bert_tokenizer(text).tokens()\n",
    "xlmr_tokens = xlmr_tokenizer(text).tokens()\n",
    "bert_tokens, xlmr_tokens"
   ],
   "id": "53ba2d8cdef9d727",
   "outputs": [
    {
     "data": {
      "text/plain": [
       "(['[CLS]', 'Jack', 'Spa', '##rrow', 'loves', 'New', 'York', '!', '[SEP]'],\n",
       " ['<s>', '▁Jack', '▁Spar', 'row', '▁love', 's', '▁New', '▁York', '!', '</s>'])"
      ]
     },
     "execution_count": 13,
     "metadata": {},
     "output_type": "execute_result"
    }
   ],
   "execution_count": 13
  },
  {
   "metadata": {},
   "cell_type": "markdown",
   "source": [
    "Here, one of the main differences is that instead of the `[CLS]` and `[SEP]` tokens that `BERT` uses for sentence\n",
    "classification tasks, `XLM-R` uses `<s>` and `<\\s>` to denote the start and end of a sequence\n",
    "\n",
    "One other difference is how the two tokenizers handle subword tokenization. `BERT` uses `##` to indicate that a token is a continuation of the previous token, while `XLM-R` uses `▁` to indicate the start of a new word or just a space.\n",
    "\n",
    "Here, `BERT` tokenizer lost the information that there is no whitespace between “York” and “!”\n",
    "\n",
    "Why?\n",
    "\n",
    ">In short, the `WordPiece` tokenizer first splits text on whitespace and punctuation, then breaks each word into subword units from its vocabulary. It does not explicitly preserve whitespace information.\n",
    "In contrast, the `SentencePiece` tokenizer treats the input as a raw character sequence and uses a statistical model (`Unigram` or `BPE`) to segment it, encoding spaces explicitly and requiring no pre-tokenization."
   ],
   "id": "b00495ba73b1fd3a"
  },
  {
   "metadata": {
    "ExecuteTime": {
     "end_time": "2025-10-08T13:20:56.937624Z",
     "start_time": "2025-10-08T13:20:56.922667Z"
    }
   },
   "cell_type": "code",
   "source": "\"\".join(xlmr_tokens).replace(u\"\\u2581\", \" \")",
   "id": "537ba10cbc0d96eb",
   "outputs": [
    {
     "data": {
      "text/plain": [
       "'<s> Jack Sparrow loves New York!</s>'"
      ]
     },
     "execution_count": 14,
     "metadata": {},
     "output_type": "execute_result"
    }
   ],
   "execution_count": 14
  },
  {
   "metadata": {},
   "cell_type": "markdown",
   "source": [
    "# Do you know how is the transformer model architecture looks like?\n",
    "in general, you have two main components:\n",
    "1. The model body (the transformer layers)\n",
    "2. The task-specific head (like a classification head for text classification tasks or a token classification head for NER tasks)\n",
    "\n",
    "so, take it like a sample exercise, let's implement a token classification model using `XLM-R` as the model body.\n",
    "\n",
    "> Note: In fact, 🤗 Transformers library already provides a pre-implemented class called `XLMRobertaForTokenClassification` that does exactly this. But implementing it from scratch is a great way to understand how these models work under the hood. And if someday you need a custom modification, you will know where to start.\n"
   ],
   "id": "f22d5818b3c233fe"
  },
  {
   "metadata": {
    "ExecuteTime": {
     "end_time": "2025-10-08T13:20:58.851028Z",
     "start_time": "2025-10-08T13:20:57.220580Z"
    }
   },
   "cell_type": "code",
   "source": [
    "import torch.nn as nn\n",
    "from transformers import XLMRobertaConfig\n",
    "from transformers.modeling_outputs import TokenClassifierOutput\n",
    "from transformers.models.roberta.modeling_roberta import RobertaModel\n",
    "from transformers.models.roberta.modeling_roberta import RobertaPreTrainedModel\n",
    "\n",
    "class XLMRobertaForTokenClassification(RobertaPreTrainedModel):\n",
    "    config_class = XLMRobertaConfig\n",
    "    def __init__(self, config):\n",
    "        super().__init__(config)\n",
    "        self.num_labels = config.num_labels\n",
    "        # Load model body\n",
    "        self.roberta = RobertaModel(config, add_pooling_layer=False)\n",
    "        # Set up token classification head\n",
    "        self.dropout = nn.Dropout(config.hidden_dropout_prob)\n",
    "        self.classifier = nn.Linear(config.hidden_size, config.num_labels)\n",
    "        # Load and initialize weights\n",
    "        self.init_weights()\n",
    "    def forward(self, input_ids=None, attention_mask=None, token_type_ids=None,labels=None, **kwargs):\n",
    "        # Use model body to get encoder representations\n",
    "        outputs = self.roberta(input_ids, attention_mask=attention_mask,\n",
    "        token_type_ids=token_type_ids, **kwargs)\n",
    "        # Apply classifier to encoder representation\n",
    "        sequence_output = self.dropout(outputs[0])\n",
    "        logits = self.classifier(sequence_output)\n",
    "        # Calculate losses\n",
    "        loss = None\n",
    "        if labels is not None:\n",
    "            loss_fct = nn.CrossEntropyLoss()\n",
    "            loss = loss_fct(logits.view(-1, self.num_labels), labels.view(-1))\n",
    "        # Return model output object\n",
    "        return TokenClassifierOutput(loss=loss, logits=logits,\n",
    "                                     hidden_states=outputs.hidden_states,\n",
    "                                     attentions=outputs.attentions)\n"
   ],
   "id": "d8d550f1198eda96",
   "outputs": [],
   "execution_count": 15
  },
  {
   "metadata": {},
   "cell_type": "markdown",
   "source": [
    "Like you can see, we first load the `XLM-R` model body using the `RobertaModel` class from 🤗 Transformers. Then, we set up a token classification head consisting of a dropout layer followed by a linear layer that maps the hidden states to the number of labels.\n",
    "\n",
    "My custom class inherits from `RobertaPreTrainedModel`, which provides useful methods for loading and saving pretrained models.\n",
    "\n",
    "But, you might wondering, what does do `config_class` ?\n",
    "> In 🤗 transformers, each model inherits from a base class like `PreTrainedModel` (here `RobertaPreTrainedModel`).\n",
    "> These base classes define several utility methods such as:\n",
    "> - rom_pretrained(...)\n",
    "> - save_pretrained(...)\n",
    "> - from_config(...)\n",
    ">\n",
    "> These methods often need to know which configuration class to use for the specific model.\n",
    "> By setting the `config_class` attribute, we inform the base class about the appropriate configuration class to use when instantiating the model from a configuration object.\n",
    "\n",
    "Note that, we set `add_pooling_layer=False` to ensure all `hidden states` are returned and not only the one\n",
    "associated with the `[CLS]` token"
   ],
   "id": "5dd58d041fbd9ac1"
  },
  {
   "metadata": {},
   "cell_type": "markdown",
   "source": [
    "Now we are ready to load our token classification model. However, first, We’ll need to provide some\n",
    "additional information beyond the model name, including the tags that we will use to\n",
    "label each entity and the mapping of each tag to an ID and vice versa"
   ],
   "id": "fe1b2f1f99ed08e6"
  },
  {
   "metadata": {
    "ExecuteTime": {
     "end_time": "2025-10-08T14:04:42.098221Z",
     "start_time": "2025-10-08T14:04:42.085903Z"
    }
   },
   "cell_type": "code",
   "source": [
    "index2tag = {idx: tag for idx, tag in enumerate(tags.names)}\n",
    "tag2index = {tag: idx for idx, tag in enumerate(tags.names)}"
   ],
   "id": "af146f68ad96f621",
   "outputs": [],
   "execution_count": 16
  },
  {
   "metadata": {},
   "cell_type": "markdown",
   "source": "We'll store thes mapping and the `tags.num_classes` attribute in the AutoConfig object by passing them as keyword arguments to the `from_pretrained` method.",
   "id": "ddb9f3a0ff5fcf8a"
  },
  {
   "metadata": {
    "ExecuteTime": {
     "end_time": "2025-10-08T14:04:58.931850Z",
     "start_time": "2025-10-08T14:04:57.696036Z"
    }
   },
   "cell_type": "code",
   "source": [
    "from transformers import AutoConfig\n",
    "\n",
    "xlmr_config = AutoConfig.from_pretrained(xlmr_model_name,\n",
    "                                         num_labels=tags.num_classes,\n",
    "                                         id2label=index2tag, label2id=tag2index)"
   ],
   "id": "a86af49f17eae502",
   "outputs": [],
   "execution_count": 17
  },
  {
   "metadata": {},
   "cell_type": "markdown",
   "source": "Now, we can load our token classification model using the `from_pretrained` method of our custom class and passing the configuration object we just created.",
   "id": "f44d31257c10314e"
  },
  {
   "metadata": {
    "ExecuteTime": {
     "end_time": "2025-10-08T14:11:55.928763Z",
     "start_time": "2025-10-08T14:08:45.719735Z"
    }
   },
   "cell_type": "code",
   "source": [
    "import torch\n",
    "\n",
    "device = torch.device(\"cuda\" if torch.cuda.is_available() else \"cpu\")\n",
    "xlmr_model = (XLMRobertaForTokenClassification\n",
    "              .from_pretrained(xlmr_model_name, config=xlmr_config)\n",
    "              .to(device))"
   ],
   "id": "ccf323552ca0088f",
   "outputs": [
    {
     "name": "stderr",
     "output_type": "stream",
     "text": [
      "Some weights of XLMRobertaForTokenClassification were not initialized from the model checkpoint at xlm-roberta-base and are newly initialized: ['classifier.bias', 'classifier.weight']\n",
      "You should probably TRAIN this model on a down-stream task to be able to use it for predictions and inference.\n"
     ]
    }
   ],
   "execution_count": 18
  },
  {
   "metadata": {},
   "cell_type": "markdown",
   "source": "Let's make a quick check to see if the model is working as expected",
   "id": "b59c1cda2e0ba41"
  },
  {
   "metadata": {
    "ExecuteTime": {
     "end_time": "2025-10-08T14:12:20.269445Z",
     "start_time": "2025-10-08T14:12:20.144490Z"
    }
   },
   "cell_type": "code",
   "source": [
    "input_ids = xlmr_tokenizer.encode(text, return_tensors=\"pt\")\n",
    "pd.DataFrame([xlmr_tokens, input_ids[0].numpy()], index=[\"Tokens\", \"Input IDs\"])"
   ],
   "id": "101a353e004d9569",
   "outputs": [
    {
     "data": {
      "text/plain": [
       "             0      1      2      3      4  5     6      7   8     9\n",
       "Tokens     <s>  ▁Jack  ▁Spar    row  ▁love  s  ▁New  ▁York   !  </s>\n",
       "Input IDs    0  21763  37456  15555   5161  7  2356   5753  38     2"
      ],
      "text/html": [
       "<div>\n",
       "<style scoped>\n",
       "    .dataframe tbody tr th:only-of-type {\n",
       "        vertical-align: middle;\n",
       "    }\n",
       "\n",
       "    .dataframe tbody tr th {\n",
       "        vertical-align: top;\n",
       "    }\n",
       "\n",
       "    .dataframe thead th {\n",
       "        text-align: right;\n",
       "    }\n",
       "</style>\n",
       "<table border=\"1\" class=\"dataframe\">\n",
       "  <thead>\n",
       "    <tr style=\"text-align: right;\">\n",
       "      <th></th>\n",
       "      <th>0</th>\n",
       "      <th>1</th>\n",
       "      <th>2</th>\n",
       "      <th>3</th>\n",
       "      <th>4</th>\n",
       "      <th>5</th>\n",
       "      <th>6</th>\n",
       "      <th>7</th>\n",
       "      <th>8</th>\n",
       "      <th>9</th>\n",
       "    </tr>\n",
       "  </thead>\n",
       "  <tbody>\n",
       "    <tr>\n",
       "      <th>Tokens</th>\n",
       "      <td>&lt;s&gt;</td>\n",
       "      <td>▁Jack</td>\n",
       "      <td>▁Spar</td>\n",
       "      <td>row</td>\n",
       "      <td>▁love</td>\n",
       "      <td>s</td>\n",
       "      <td>▁New</td>\n",
       "      <td>▁York</td>\n",
       "      <td>!</td>\n",
       "      <td>&lt;/s&gt;</td>\n",
       "    </tr>\n",
       "    <tr>\n",
       "      <th>Input IDs</th>\n",
       "      <td>0</td>\n",
       "      <td>21763</td>\n",
       "      <td>37456</td>\n",
       "      <td>15555</td>\n",
       "      <td>5161</td>\n",
       "      <td>7</td>\n",
       "      <td>2356</td>\n",
       "      <td>5753</td>\n",
       "      <td>38</td>\n",
       "      <td>2</td>\n",
       "    </tr>\n",
       "  </tbody>\n",
       "</table>\n",
       "</div>"
      ]
     },
     "execution_count": 19,
     "metadata": {},
     "output_type": "execute_result"
    }
   ],
   "execution_count": 19
  },
  {
   "metadata": {},
   "cell_type": "markdown",
   "source": "Finally, we pass the input IDs to the model and extract the predicted class for each token by taking the `argmax` of the output logits.",
   "id": "4defe6f1bba388a2"
  },
  {
   "metadata": {
    "ExecuteTime": {
     "end_time": "2025-10-08T14:20:20.916343Z",
     "start_time": "2025-10-08T14:20:18.115830Z"
    }
   },
   "cell_type": "code",
   "source": [
    "outputs = xlmr_model(input_ids.to(device)).logits\n",
    "predictions = torch.argmax(outputs, dim=-1)\n",
    "print(f\"Number of tokens in sequence: {len(xlmr_tokens)}\")\n",
    "print(f\"Shape of outputs: {outputs.shape}\")"
   ],
   "id": "2e4150f965fd19f2",
   "outputs": [
    {
     "name": "stdout",
     "output_type": "stream",
     "text": [
      "Number of tokens in sequence: 10\n",
      "Shape of outputs: torch.Size([1, 10, 7])\n"
     ]
    }
   ],
   "execution_count": 20
  },
  {
   "metadata": {},
   "cell_type": "markdown",
   "source": [
    "Like you can see, the logits have the shape `[batch_size, num_tokens, num_tags]`, with each token having a score for each seven possible tags.\n",
    "\n",
    "By enumerating over the sequence, we can quickly see the predicted tag for each token."
   ],
   "id": "6eba1e6979fa43aa"
  },
  {
   "metadata": {
    "ExecuteTime": {
     "end_time": "2025-10-08T14:24:17.238169Z",
     "start_time": "2025-10-08T14:24:17.189589Z"
    }
   },
   "cell_type": "code",
   "source": [
    "preds = [tags.names[p] for p in predictions[0].cpu().numpy()]\n",
    "pd.DataFrame([xlmr_tokens, preds], index=[\"Tokens\", \"Tags\"])"
   ],
   "id": "1c4547c9a36f4816",
   "outputs": [
    {
     "data": {
      "text/plain": [
       "            0      1      2      3      4      5      6      7      8      9\n",
       "Tokens    <s>  ▁Jack  ▁Spar    row  ▁love      s   ▁New  ▁York      !   </s>\n",
       "Tags    I-LOC  B-LOC  B-LOC  B-LOC  I-LOC  B-LOC  I-LOC  I-LOC  B-LOC  B-LOC"
      ],
      "text/html": [
       "<div>\n",
       "<style scoped>\n",
       "    .dataframe tbody tr th:only-of-type {\n",
       "        vertical-align: middle;\n",
       "    }\n",
       "\n",
       "    .dataframe tbody tr th {\n",
       "        vertical-align: top;\n",
       "    }\n",
       "\n",
       "    .dataframe thead th {\n",
       "        text-align: right;\n",
       "    }\n",
       "</style>\n",
       "<table border=\"1\" class=\"dataframe\">\n",
       "  <thead>\n",
       "    <tr style=\"text-align: right;\">\n",
       "      <th></th>\n",
       "      <th>0</th>\n",
       "      <th>1</th>\n",
       "      <th>2</th>\n",
       "      <th>3</th>\n",
       "      <th>4</th>\n",
       "      <th>5</th>\n",
       "      <th>6</th>\n",
       "      <th>7</th>\n",
       "      <th>8</th>\n",
       "      <th>9</th>\n",
       "    </tr>\n",
       "  </thead>\n",
       "  <tbody>\n",
       "    <tr>\n",
       "      <th>Tokens</th>\n",
       "      <td>&lt;s&gt;</td>\n",
       "      <td>▁Jack</td>\n",
       "      <td>▁Spar</td>\n",
       "      <td>row</td>\n",
       "      <td>▁love</td>\n",
       "      <td>s</td>\n",
       "      <td>▁New</td>\n",
       "      <td>▁York</td>\n",
       "      <td>!</td>\n",
       "      <td>&lt;/s&gt;</td>\n",
       "    </tr>\n",
       "    <tr>\n",
       "      <th>Tags</th>\n",
       "      <td>I-LOC</td>\n",
       "      <td>B-LOC</td>\n",
       "      <td>B-LOC</td>\n",
       "      <td>B-LOC</td>\n",
       "      <td>I-LOC</td>\n",
       "      <td>B-LOC</td>\n",
       "      <td>I-LOC</td>\n",
       "      <td>I-LOC</td>\n",
       "      <td>B-LOC</td>\n",
       "      <td>B-LOC</td>\n",
       "    </tr>\n",
       "  </tbody>\n",
       "</table>\n",
       "</div>"
      ]
     },
     "execution_count": 21,
     "metadata": {},
     "output_type": "execute_result"
    }
   ],
   "execution_count": 21
  },
  {
   "metadata": {},
   "cell_type": "markdown",
   "source": [
    "So... I don't think \"Jack\" is a Location, right? 😅\n",
    "\n",
    "But well, with random weights — what did I expect anyway 😅\n",
    "\n",
    "Okay, time to fine-tune it on some labeled data — let’s make it smarter 😎\n",
    "Before that, though, let’s wrap the previous steps into a neat helper function."
   ],
   "id": "c7f949982da5081f"
  },
  {
   "metadata": {
    "ExecuteTime": {
     "end_time": "2025-10-08T14:33:29.229031Z",
     "start_time": "2025-10-08T14:33:29.222174Z"
    }
   },
   "cell_type": "code",
   "source": [
    "def tag_text(text, tags, model, tokenizer):\n",
    "    tokens = tokenizer(text).tokens()\n",
    "    input_ids = xlmr_tokenizer(text, return_tensors=\"pt\").input_ids.to(device)\n",
    "    outputs = model(input_ids)[0]\n",
    "    predictions = torch.argmax(outputs, dim=2)\n",
    "    preds = [tags.names[p] for p in predictions[0].cpu().numpy()]\n",
    "    return pd.DataFrame([tokens, preds], index=[\"Tokens\", \"Tags\"])"
   ],
   "id": "45cc5cbc5df2361a",
   "outputs": [],
   "execution_count": 22
  },
  {
   "metadata": {},
   "cell_type": "markdown",
   "source": "Before we start to train our model, we need to tokenize the input and prepare the labels.",
   "id": "517cb98c06c0c04f"
  }
 ],
 "metadata": {
  "kernelspec": {
   "display_name": "Python 3",
   "language": "python",
   "name": "python3"
  },
  "language_info": {
   "codemirror_mode": {
    "name": "ipython",
    "version": 2
   },
   "file_extension": ".py",
   "mimetype": "text/x-python",
   "name": "python",
   "nbconvert_exporter": "python",
   "pygments_lexer": "ipython2",
   "version": "2.7.6"
  }
 },
 "nbformat": 4,
 "nbformat_minor": 5
}
